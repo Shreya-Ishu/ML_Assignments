{
 "cells": [
  {
   "cell_type": "code",
   "execution_count": 1,
   "metadata": {},
   "outputs": [
    {
     "name": "stdout",
     "output_type": "stream",
     "text": [
      "     Name Age               Email_id    Phone_no\n",
      "0  Shreya  20  gargishu320@gmail.com  9123423132\n",
      "1  Shruti  21    shruti123@gmail.com  8123451678\n",
      "2  Tripta  19      tripta1@gmail.com  9876023657\n",
      "3   Gagan  20   gaganjot15@gmail.com  8756943689\n"
     ]
    }
   ],
   "source": [
    "import pandas as pd\n",
    "import numpy as np\n",
    "\n",
    "df = pd.DataFrame({\n",
    "    'Name': ['Shreya', 'Shruti', 'Tripta', 'Gagan'],\n",
    "    'Age': ['20', '21', '19', '20'],\n",
    "    'Email_id': ['gargishu320@gmail.com', 'shruti123@gmail.com', 'tripta1@gmail.com', 'gaganjot15@gmail.com'],\n",
    "    'Phone_no':['9123423132','8123451678','9876023657','8756943689']\n",
    "})\n",
    "print(df);"
   ]
  },
  {
   "cell_type": "code",
   "execution_count": 4,
   "metadata": {},
   "outputs": [
    {
     "name": "stdout",
     "output_type": "stream",
     "text": [
      "        Date  Location  MinTemp  MaxTemp  Rainfall  Evaporation  Sunshine  \\\n",
      "0  11/1/2007  Canberra      8.0     24.3       0.0          3.4       6.3   \n",
      "1  11/2/2007  Canberra     14.0     26.9       3.6          4.4       9.7   \n",
      "2  11/3/2007  Canberra     13.7     23.4       3.6          5.8       3.3   \n",
      "3  11/4/2007  Canberra     13.3     15.5      39.8          7.2       9.1   \n",
      "4  11/5/2007  Canberra      7.6     16.1       2.8          5.6      10.6   \n",
      "\n",
      "  WindGustDir  WindGustSpeed WindDir9am      ...      Humidity3pm  \\\n",
      "0          NW           30.0         SW      ...               29   \n",
      "1         ENE           39.0          E      ...               36   \n",
      "2          NW           85.0          N      ...               69   \n",
      "3          NW           54.0        WNW      ...               56   \n",
      "4         SSE           50.0        SSE      ...               49   \n",
      "\n",
      "   Pressure9am  Pressure3pm  Cloud9am  Cloud3pm  Temp9am  Temp3pm  RainToday  \\\n",
      "0       1019.7       1015.0         7         7     14.4     23.6         No   \n",
      "1       1012.4       1008.4         5         3     17.5     25.7        Yes   \n",
      "2       1009.5       1007.2         8         7     15.4     20.2        Yes   \n",
      "3       1005.5       1007.0         2         7     13.5     14.1        Yes   \n",
      "4       1018.3       1018.5         7         7     11.1     15.4        Yes   \n",
      "\n",
      "   RISK_MM  RainTomorrow  \n",
      "0      3.6           Yes  \n",
      "1      3.6           Yes  \n",
      "2     39.8           Yes  \n",
      "3      2.8           Yes  \n",
      "4      0.0            No  \n",
      "\n",
      "[5 rows x 24 columns]\n"
     ]
    }
   ],
   "source": [
    "import pandas as pd\n",
    "import numpy as np\n",
    "df=pd.read_csv('weather.csv')\n",
    "print(df.head())\n"
   ]
  },
  {
   "cell_type": "code",
   "execution_count": 5,
   "metadata": {},
   "outputs": [
    {
     "name": "stdout",
     "output_type": "stream",
     "text": [
      "         Date  Location  MinTemp  MaxTemp  Rainfall  Evaporation  Sunshine  \\\n",
      "0   11/1/2007  Canberra      8.0     24.3       0.0          3.4       6.3   \n",
      "1   11/2/2007  Canberra     14.0     26.9       3.6          4.4       9.7   \n",
      "2   11/3/2007  Canberra     13.7     23.4       3.6          5.8       3.3   \n",
      "3   11/4/2007  Canberra     13.3     15.5      39.8          7.2       9.1   \n",
      "4   11/5/2007  Canberra      7.6     16.1       2.8          5.6      10.6   \n",
      "5   11/6/2007  Canberra      6.2     16.9       0.0          5.8       8.2   \n",
      "6   11/7/2007  Canberra      6.1     18.2       0.2          4.2       8.4   \n",
      "7   11/8/2007  Canberra      8.3     17.0       0.0          5.6       4.6   \n",
      "8   11/9/2007  Canberra      8.8     19.5       0.0          4.0       4.1   \n",
      "9  11/10/2007  Canberra      8.4     22.8      16.2          5.4       7.7   \n",
      "\n",
      "  WindGustDir  WindGustSpeed WindDir9am      ...      Humidity3pm  \\\n",
      "0          NW           30.0         SW      ...               29   \n",
      "1         ENE           39.0          E      ...               36   \n",
      "2          NW           85.0          N      ...               69   \n",
      "3          NW           54.0        WNW      ...               56   \n",
      "4         SSE           50.0        SSE      ...               49   \n",
      "5          SE           44.0         SE      ...               57   \n",
      "6          SE           43.0         SE      ...               47   \n",
      "7           E           41.0         SE      ...               57   \n",
      "8           S           48.0          E      ...               48   \n",
      "9           E           31.0          S      ...               32   \n",
      "\n",
      "   Pressure9am  Pressure3pm  Cloud9am  Cloud3pm  Temp9am  Temp3pm  RainToday  \\\n",
      "0       1019.7       1015.0         7         7     14.4     23.6         No   \n",
      "1       1012.4       1008.4         5         3     17.5     25.7        Yes   \n",
      "2       1009.5       1007.2         8         7     15.4     20.2        Yes   \n",
      "3       1005.5       1007.0         2         7     13.5     14.1        Yes   \n",
      "4       1018.3       1018.5         7         7     11.1     15.4        Yes   \n",
      "5       1023.8       1021.7         7         5     10.9     14.8         No   \n",
      "6       1024.6       1022.2         4         6     12.4     17.3         No   \n",
      "7       1026.2       1024.2         6         7     12.1     15.5         No   \n",
      "8       1026.1       1022.7         7         7     14.1     18.9         No   \n",
      "9       1024.1       1020.7         7         1     13.3     21.7        Yes   \n",
      "\n",
      "   RISK_MM  RainTomorrow  \n",
      "0      3.6           Yes  \n",
      "1      3.6           Yes  \n",
      "2     39.8           Yes  \n",
      "3      2.8           Yes  \n",
      "4      0.0            No  \n",
      "5      0.2            No  \n",
      "6      0.0            No  \n",
      "7      0.0            No  \n",
      "8     16.2           Yes  \n",
      "9      0.0            No  \n",
      "\n",
      "[10 rows x 24 columns]\n"
     ]
    }
   ],
   "source": [
    "print(df.head(10))\n"
   ]
  },
  {
   "cell_type": "code",
   "execution_count": 9,
   "metadata": {},
   "outputs": [
    {
     "name": "stdout",
     "output_type": "stream",
     "text": [
      "count          366\n",
      "unique           1\n",
      "top       Canberra\n",
      "freq           366\n",
      "Name: Location, dtype: object\n"
     ]
    }
   ],
   "source": [
    "print(df['Location'].describe())\n"
   ]
  },
  {
   "cell_type": "code",
   "execution_count": 7,
   "metadata": {},
   "outputs": [
    {
     "name": "stdout",
     "output_type": "stream",
     "text": [
      "           Date  Location  MinTemp  MaxTemp  Rainfall  Evaporation  Sunshine  \\\n",
      "361  10/27/2008  Canberra      9.0     30.7       0.0          7.6      12.1   \n",
      "362  10/28/2008  Canberra      7.1     28.4       0.0         11.6      12.7   \n",
      "363  10/29/2008  Canberra     12.5     19.9       0.0          8.4       5.3   \n",
      "364  10/30/2008  Canberra     12.5     26.9       0.0          5.0       7.1   \n",
      "365  10/31/2008  Canberra     12.3     30.2       0.0          6.0      12.6   \n",
      "\n",
      "    WindGustDir  WindGustSpeed WindDir9am      ...      Humidity3pm  \\\n",
      "361         NNW           76.0        SSE      ...               15   \n",
      "362           N           48.0        NNW      ...               22   \n",
      "363         ESE           43.0        ENE      ...               47   \n",
      "364          NW           46.0        SSW      ...               39   \n",
      "365          NW           78.0         NW      ...               13   \n",
      "\n",
      "     Pressure9am  Pressure3pm  Cloud9am  Cloud3pm  Temp9am  Temp3pm  \\\n",
      "361       1016.1       1010.8         1         3     20.4     30.0   \n",
      "362       1020.0       1016.9         0         1     17.2     28.2   \n",
      "363       1024.0       1022.8         3         2     14.5     18.3   \n",
      "364       1021.0       1016.2         6         7     15.8     25.9   \n",
      "365       1009.6       1009.2         1         1     23.8     28.6   \n",
      "\n",
      "     RainToday  RISK_MM  RainTomorrow  \n",
      "361         No      0.0            No  \n",
      "362         No      0.0            No  \n",
      "363         No      0.0            No  \n",
      "364         No      0.0            No  \n",
      "365         No      0.0            No  \n",
      "\n",
      "[5 rows x 24 columns]\n"
     ]
    }
   ],
   "source": [
    "print(df.tail())\n"
   ]
  },
  {
   "cell_type": "code",
   "execution_count": 8,
   "metadata": {},
   "outputs": [
    {
     "name": "stdout",
     "output_type": "stream",
     "text": [
      "             Date  Location WindGustDir WindDir9am WindDir3pm RainToday  \\\n",
      "count         366       366         363        335        365       366   \n",
      "unique        366         1          16         16         16         2   \n",
      "top     2/25/2008  Canberra          NW         SE        WNW        No   \n",
      "freq            1       366          73         47         61       300   \n",
      "\n",
      "       RainTomorrow  \n",
      "count           366  \n",
      "unique            2  \n",
      "top              No  \n",
      "freq            300  \n"
     ]
    }
   ],
   "source": [
    "print(df.describe(include=['object']))"
   ]
  },
  {
   "cell_type": "code",
   "execution_count": null,
   "metadata": {},
   "outputs": [],
   "source": []
  }
 ],
 "metadata": {
  "kernelspec": {
   "display_name": "Python 3",
   "language": "python",
   "name": "python3"
  },
  "language_info": {
   "codemirror_mode": {
    "name": "ipython",
    "version": 3
   },
   "file_extension": ".py",
   "mimetype": "text/x-python",
   "name": "python",
   "nbconvert_exporter": "python",
   "pygments_lexer": "ipython3",
   "version": "3.6.5"
  }
 },
 "nbformat": 4,
 "nbformat_minor": 2
}
